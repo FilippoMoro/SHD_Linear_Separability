{
  "cells": [
    {
      "cell_type": "markdown",
      "metadata": {
        "id": "view-in-github",
        "colab_type": "text"
      },
      "source": [
        "<a href=\"https://colab.research.google.com/github/FilippoMoro/SHD_Linear_Separability/blob/main/SHD_LogRegr.ipynb\" target=\"_parent\"><img src=\"https://colab.research.google.com/assets/colab-badge.svg\" alt=\"Open In Colab\"/></a>"
      ]
    },
    {
      "cell_type": "code",
      "source": [
        "from google.colab import drive\n",
        "drive.mount('/content/drive')"
      ],
      "metadata": {
        "colab": {
          "base_uri": "https://localhost:8080/"
        },
        "id": "Sl9NRR6zRNw4",
        "outputId": "d701dcc5-b768-4043-b07a-c5e6b1011851"
      },
      "execution_count": null,
      "outputs": [
        {
          "output_type": "stream",
          "name": "stdout",
          "text": [
            "Drive already mounted at /content/drive; to attempt to forcibly remount, call drive.mount(\"/content/drive\", force_remount=True).\n"
          ]
        }
      ]
    },
    {
      "cell_type": "code",
      "execution_count": null,
      "metadata": {
        "colab": {
          "base_uri": "https://localhost:8080/"
        },
        "id": "KWsTfHH2RIFN",
        "outputId": "434f3a41-0a4a-480d-fb90-717ab7a12349"
      },
      "outputs": [
        {
          "output_type": "stream",
          "name": "stdout",
          "text": [
            "you are using a: cpu\n"
          ]
        }
      ],
      "source": [
        "import os\n",
        "import h5py\n",
        "import copy\n",
        "import pickle\n",
        "import numpy as np\n",
        "import numpy.random as rd\n",
        "import matplotlib.pyplot as plt\n",
        "%matplotlib inline\n",
        "\n",
        "import torch\n",
        "import torch.nn as nn\n",
        "from torchvision.ops import MLP\n",
        "import time\n",
        "\n",
        "# Import Logistic Regression from scikitlearn\n",
        "from sklearn.linear_model import LogisticRegression\n",
        "\n",
        "if torch.backends.mps.is_available():\n",
        "    device = torch.device('mps')\n",
        "    print( f'you are using a Mac-based GPU' )\n",
        "elif torch.cuda.is_available():\n",
        "    # device = torch.cuda.device(0)\n",
        "    device = torch.device('cuda:0')\n",
        "    print( 'You are using a '+str(torch.cuda.get_device_name(0)) )\n",
        "else:\n",
        "    device = torch.device('cpu')\n",
        "    print( f'you are using a: {device}' )"
      ]
    },
    {
      "cell_type": "code",
      "execution_count": null,
      "metadata": {
        "id": "Hy3xhy3KRIFR"
      },
      "outputs": [],
      "source": [
        "# Reproducibility in RNG\n",
        "seed = 14\n",
        "torch.manual_seed( seed )\n",
        "np.random.seed( seed )\n",
        "def seed_worker(worker_id):\n",
        "    worker_seed = torch.initial_seed() % 2**32\n",
        "    np.random.seed(worker_seed)"
      ]
    },
    {
      "cell_type": "markdown",
      "metadata": {
        "id": "Hgd6ijB9RIFS"
      },
      "source": [
        "### 1. Load the Numpy dataloader\n",
        "---"
      ]
    },
    {
      "cell_type": "code",
      "source": [
        "import urllib.request\n",
        "import gzip, shutil\n",
        "import hashlib\n",
        "from six.moves.urllib.error import HTTPError\n",
        "from six.moves.urllib.error import URLError\n",
        "from six.moves.urllib.request import urlretrieve\n",
        "\n",
        "def get_audio_dataset(cache_dir, cache_subdir, dataset_name):\n",
        "    # The remote directory with the data files\n",
        "    base_url = \"https://zenkelab.org/datasets\"\n",
        "\n",
        "    # Retrieve MD5 hashes from remote\n",
        "    response = urllib.request.urlopen(\"%s/md5sums.txt\"%base_url)\n",
        "    data = response.read()\n",
        "    lines = data.decode('utf-8').split(\"\\n\")\n",
        "    file_hashes = { line.split()[1]:line.split()[0] for line in lines if len(line.split())==2 }\n",
        "\n",
        "    # Download the Spiking Heidelberg Digits (SHD) dataset\n",
        "    if dataset_name == 'shd':\n",
        "        files = [ \"shd_train.h5.gz\", \"shd_test.h5.gz\"]\n",
        "    if dataset_name == 'ssc':\n",
        "        files = [ \"ssc_train.h5.gz\", \"ssc_test.h5.gz\"]\n",
        "    if dataset_name == 'all':\n",
        "        files = [ \"shd_train.h5.gz\", \"shd_test.h5.gz\", \"ssc_train.h5.gz\", \"ssc_test.h5.gz\"]\n",
        "\n",
        "    for fn in files:\n",
        "        origin = \"%s/%s\"%(base_url,fn)\n",
        "        hdf5_file_path = get_and_gunzip(origin, fn, md5hash=file_hashes[fn], cache_dir=cache_dir, cache_subdir=cache_subdir)\n",
        "        # print(\"File %s decompressed to:\"%(fn))\n",
        "        print(\"Available at: %s\"%hdf5_file_path)\n",
        "\n",
        "def get_and_gunzip(origin, filename, md5hash=None, cache_dir=None, cache_subdir=None):\n",
        "    gz_file_path = get_file(filename, origin, md5_hash=md5hash, cache_dir=cache_dir, cache_subdir=cache_subdir)\n",
        "    hdf5_file_path = gz_file_path[:-3]\n",
        "    if not os.path.isfile(hdf5_file_path) or os.path.getctime(gz_file_path) > os.path.getctime(hdf5_file_path):\n",
        "        print(\"Decompressing %s\"%gz_file_path)\n",
        "        with gzip.open(gz_file_path, 'r') as f_in, open(hdf5_file_path, 'wb') as f_out:\n",
        "            shutil.copyfileobj(f_in, f_out)\n",
        "    return hdf5_file_path\n",
        "\n",
        "def validate_file(fpath, file_hash, algorithm='auto', chunk_size=65535):\n",
        "    if (algorithm == 'sha256') or (algorithm == 'auto' and len(file_hash) == 64):\n",
        "        hasher = 'sha256'\n",
        "    else:\n",
        "        hasher = 'md5'\n",
        "\n",
        "    if str(_hash_file(fpath, hasher, chunk_size)) == str(file_hash):\n",
        "        return True\n",
        "    else:\n",
        "        return False\n",
        "\n",
        "def _hash_file(fpath, algorithm='sha256', chunk_size=65535):\n",
        "    if (algorithm == 'sha256') or (algorithm == 'auto' and len(hash) == 64):\n",
        "        hasher = hashlib.sha256()\n",
        "    else:\n",
        "        hasher = hashlib.md5()\n",
        "\n",
        "    with open(fpath, 'rb') as fpath_file:\n",
        "        for chunk in iter(lambda: fpath_file.read(chunk_size), b''):\n",
        "            hasher.update(chunk)\n",
        "\n",
        "    return hasher.hexdigest()\n",
        "\n",
        "def get_file(fname,\n",
        "             origin,\n",
        "             md5_hash=None,\n",
        "             file_hash=None,\n",
        "             cache_subdir='datasets',\n",
        "             hash_algorithm='auto',\n",
        "             extract=False,\n",
        "             archive_format='auto',\n",
        "             cache_dir=None):\n",
        "    if cache_dir is None:\n",
        "        cache_dir = os.path.join(os.path.expanduser('~'), '.data-cache')\n",
        "    if md5_hash is not None and file_hash is None:\n",
        "        file_hash = md5_hash\n",
        "        hash_algorithm = 'md5'\n",
        "    datadir_base = os.path.expanduser(cache_dir)\n",
        "    if not os.access(datadir_base, os.W_OK):\n",
        "        datadir_base = os.path.join('/tmp', '.data-cache')\n",
        "    datadir = os.path.join(datadir_base, cache_subdir)\n",
        "\n",
        "    # Create directories if they don't exist\n",
        "    os.makedirs(cache_dir, exist_ok=True)\n",
        "    os.makedirs(datadir, exist_ok=True)\n",
        "\n",
        "    fpath = os.path.join(datadir, fname)\n",
        "\n",
        "    download = False\n",
        "    if os.path.exists(fpath):\n",
        "    # File found; verify integrity if a hash was provided.\n",
        "        if file_hash is not None:\n",
        "            if not validate_file(fpath, file_hash, algorithm=hash_algorithm):\n",
        "                print('A local file was found, but it seems to be '\n",
        "                      'incomplete or outdated because the ' + hash_algorithm +\n",
        "                      ' file hash does not match the original value of ' + file_hash +\n",
        "                      ' so we will re-download the data.')\n",
        "                download = True\n",
        "    else:\n",
        "        download = True\n",
        "\n",
        "    if download:\n",
        "        print('Downloading data from', origin)\n",
        "\n",
        "        error_msg = 'URL fetch failure on {}: {} -- {}'\n",
        "        try:\n",
        "            try:\n",
        "                urlretrieve(origin, fpath)\n",
        "            except HTTPError as e:\n",
        "                raise Exception(error_msg.format(origin, e.code, e.msg))\n",
        "            except URLError as e:\n",
        "                raise Exception(error_msg.format(origin, e.errno, e.reason))\n",
        "        except (Exception, KeyboardInterrupt) as e:\n",
        "            if os.path.exists(fpath):\n",
        "                os.remove(fpath)\n",
        "\n",
        "    return fpath"
      ],
      "metadata": {
        "id": "JGEW6gjpRnSk"
      },
      "execution_count": null,
      "outputs": []
    },
    {
      "cell_type": "code",
      "execution_count": null,
      "metadata": {
        "id": "wUQXso1gRIFT"
      },
      "outputs": [],
      "source": [
        "# Numpy-based DataLoader\n",
        "from torch.utils import data\n",
        "from functools import partial\n",
        "\n",
        "class dataset_numpy(data.Dataset):\n",
        "    ''' Numpy based generator\n",
        "    '''\n",
        "    def __init__(self, spikes, labels, name, target_dim, nb_steps):\n",
        "        self.nb_steps = nb_steps\n",
        "        self.nb_units = 700\n",
        "        self.max_time = 1.4\n",
        "        self.spikes = spikes\n",
        "        self.labels = labels\n",
        "        self.name = name\n",
        "\n",
        "        self.firing_times = self.spikes['times']\n",
        "        self.units_fired  = self.spikes['units']\n",
        "        self.num_samples = self.firing_times.shape[0]\n",
        "        self.time_bins = np.linspace(0, self.max_time, num=self.nb_steps)\n",
        "\n",
        "        self.input  = np.zeros((self.num_samples, self.nb_steps, self.nb_units), dtype=np.uint8)\n",
        "        self.output = np.array(self.labels, dtype=np.uint8)\n",
        "\n",
        "        self.load_spikes()\n",
        "        self.reduce_inp_dimensions(target_dim=target_dim, axis=2)\n",
        "\n",
        "    def __len__(self):\n",
        "        return self.num_samples\n",
        "\n",
        "    def load_spikes(self):\n",
        "        for idx in range(self.num_samples):\n",
        "            times = np.digitize(self.firing_times[idx], self.time_bins)\n",
        "            units = self.units_fired[idx]\n",
        "            if max(units)>=self.nb_units:\n",
        "                units = np.clip(units, 0, self.nb_units-1)\n",
        "                # print(idx)\n",
        "            self.input[idx, times, units] = 1\n",
        "\n",
        "    def reduce_inp_dimensions(self, target_dim, axis):\n",
        "        sample_ind = int(np.ceil(self.nb_units / target_dim))\n",
        "        index = [np.arange(i, 700, sample_ind) for i in range(sample_ind)]\n",
        "        reshaped = [np.take(self.input, index[i], axis) for i in range(sample_ind)]\n",
        "        reshaped = [np.pad(reshaped[i], [(0,0), (0,0), (0,int(target_dim-reshaped[i].shape[2]))], mode='constant') for i in range(sample_ind)]\n",
        "        reshaped = np.concatenate(reshaped, axis=0)\n",
        "        self.input = reshaped\n",
        "        self.output = np.tile(self.output, sample_ind)\n",
        "        self.num_samples = reshaped.shape[0]\n",
        "\n",
        "    def __getitem__(self, idx):\n",
        "        inputs, outputs = self.__data_generation(idx)\n",
        "        return inputs, outputs\n",
        "\n",
        "    def __data_generation(self, idx):\n",
        "        if self.name == 'shd':\n",
        "            output = self.output[idx]\n",
        "        if self.name == 'ssc':\n",
        "            output = self.output[idx] + 20\n",
        "        return self.input[idx], output\n",
        "\n",
        "def numpy_collate(batch):\n",
        "  if isinstance(batch[0], np.ndarray):\n",
        "    return np.stack(batch)\n",
        "  elif isinstance(batch[0], (tuple,list)):\n",
        "    transposed = zip(*batch)\n",
        "    return [numpy_collate(samples) for samples in transposed]\n",
        "  else:\n",
        "    return np.array(batch)\n",
        "\n",
        "class NumpyLoader(data.DataLoader):\n",
        "  def __init__(self, dataset, batch_size=1,\n",
        "                shuffle=True, sampler=None,\n",
        "                batch_sampler=None, num_workers=0,\n",
        "                pin_memory=False, drop_last=False,\n",
        "                timeout=0, worker_init_fn=None):\n",
        "    super(self.__class__, self).__init__(dataset,\n",
        "        batch_size=batch_size,\n",
        "        shuffle=shuffle,\n",
        "        sampler=sampler,\n",
        "        batch_sampler=batch_sampler,\n",
        "        num_workers=num_workers,\n",
        "        collate_fn=numpy_collate,\n",
        "        pin_memory=pin_memory,\n",
        "        drop_last=drop_last,\n",
        "        timeout=timeout,\n",
        "        worker_init_fn=worker_init_fn)\n",
        "\n",
        "#Download and preprocess\n",
        "def get_numpy_datasets(dataset_name, n_inp, nb_steps):\n",
        "    cache_dir = os.path.expanduser(\"~/data\")\n",
        "    cache_subdir = \"audiospikes\"\n",
        "    get_audio_dataset(cache_dir, cache_subdir, dataset_name)\n",
        "\n",
        "    train_ds = []; test_ds = []\n",
        "    if dataset_name in ['shd', 'all']:\n",
        "        train_shd_file = h5py.File(os.path.join(cache_dir, cache_subdir, 'shd_train.h5'), 'r')\n",
        "        test_shd_file  = h5py.File(os.path.join(cache_dir, cache_subdir, 'shd_test.h5'), 'r')\n",
        "        shd_train_ds = dataset_numpy(train_shd_file['spikes'], train_shd_file['labels'], name='shd', target_dim=n_inp, nb_steps=nb_steps)\n",
        "        shd_test_ds  = dataset_numpy(test_shd_file['spikes'], test_shd_file['labels'], name='shd', target_dim=n_inp, nb_steps=nb_steps)\n",
        "        train_ds.append(shd_train_ds)\n",
        "        test_ds.append(shd_test_ds)\n",
        "\n",
        "    return train_ds, test_ds"
      ]
    },
    {
      "cell_type": "code",
      "source": [
        "dataset_name= \"shd\"\n",
        "cache_dir = os.path.expanduser(os.getcwd()+\"/data\") #os.path.expanduser(\"~/data\")\n",
        "cache_subdir = \"audiospikes\"\n",
        "get_audio_dataset(cache_dir, cache_subdir, dataset_name)"
      ],
      "metadata": {
        "colab": {
          "base_uri": "https://localhost:8080/"
        },
        "id": "3m1BqBVzT2ZZ",
        "outputId": "8aacf002-87e1-4603-a145-a328da98664a"
      },
      "execution_count": null,
      "outputs": [
        {
          "output_type": "stream",
          "name": "stdout",
          "text": [
            "Available at: /content/data/audiospikes/shd_train.h5\n",
            "Available at: /content/data/audiospikes/shd_test.h5\n"
          ]
        }
      ]
    },
    {
      "cell_type": "markdown",
      "metadata": {
        "id": "mtYkSABwRIFU"
      },
      "source": [
        "### 2. Training Algorithm\n",
        "---"
      ]
    },
    {
      "cell_type": "code",
      "execution_count": null,
      "metadata": {
        "id": "mdTgZ31URIFU"
      },
      "outputs": [],
      "source": [
        "def training_SHD( epochs, model, lr, weight_decay, x_train, batch_size, x_test, device, scheduler=None,\n",
        "                  optimizer=None, keep_2D=False, verbose=True ):\n",
        "    model = model.to(device)\n",
        "    if optimizer is None:\n",
        "        optimizer = torch.optim.SGD( model.parameters(), lr=lr, weight_decay=weight_decay )\n",
        "    loss_func = torch.nn.CrossEntropyLoss(  )\n",
        "    tot_iters = 10\n",
        "    if scheduler is None:\n",
        "        scheduler = torch.optim.lr_scheduler.LinearLR(optimizer, start_factor=1.0, end_factor=0.01, total_iters=tot_iters, last_epoch=-1, verbose=False)\n",
        "    train_losses, train_accs = [], []\n",
        "    for e in range(epochs):\n",
        "        correct, samples, batch_num = 0, 0, 0\n",
        "        train_loss_epoch = 0\n",
        "        for x_local, y_local in x_train:\n",
        "            if keep_2D: X = torch.from_numpy(x_local)\n",
        "            else: X = torch.from_numpy(x_local).reshape(batch_size,-1)\n",
        "            X = X.to(device).type(torch.float); y_local = torch.from_numpy(y_local).to(device)\n",
        "            optimizer.zero_grad()\n",
        "            y_tilde = model( X )\n",
        "            y_titlde = torch.nn.functional.softmax(y_tilde, dim=1)\n",
        "            loss = loss_func( y_titlde, y_local )\n",
        "            loss.backward()\n",
        "            optimizer.step()\n",
        "            correct += torch.sum( (torch.argmax(y_tilde, dim=1) == y_local).type(torch.float) )\n",
        "            samples += y_local.shape[0]\n",
        "            train_loss_epoch += loss.item()\n",
        "            batch_num += 1\n",
        "        train_acc = correct/samples\n",
        "        mean_loss = train_loss_epoch/batch_num\n",
        "        train_losses.append( mean_loss )\n",
        "        train_accs.append( train_acc.item() )\n",
        "        if verbose: print(f'Epoch {e+1}, Train Acc: {train_acc*100:.2f}, Train Loss: {mean_loss:.4f}')\n",
        "        if e+1 % int((epochs)/tot_iters) == 0:\n",
        "            scheduler.step()\n",
        "            # scheduler.step(mean_loss)\n",
        "            # last_lr = scheduler.get_last_lr()\n",
        "\n",
        "    with torch.no_grad():\n",
        "        test_loss = 0\n",
        "        for x_local, y_local in x_test:\n",
        "            if keep_2D: X = torch.from_numpy(x_local)\n",
        "            else: X = torch.from_numpy(x_local).reshape(batch_size,-1)\n",
        "            X = X.to(device).type(torch.float); y_local = torch.from_numpy(y_local).to(device)\n",
        "            y_tilde = model( X )\n",
        "            y_titlde = torch.nn.functional.softmax(y_tilde, dim=1)\n",
        "            loss = loss_func( y_titlde, y_local )\n",
        "            correct += torch.sum( (torch.argmax(y_tilde, dim=1) == y_local).type(torch.float) )\n",
        "            samples += y_local.shape[0]\n",
        "            test_loss += loss.item()\n",
        "    test_acc = correct/samples\n",
        "    test_loss = test_loss/samples\n",
        "    if verbose: print(f'Epoch {e+1}, Test Acc: {test_acc*100:.2f}')\n",
        "\n",
        "    return [train_losses, train_accs], [test_loss, test_acc.item()]\n"
      ]
    },
    {
      "cell_type": "markdown",
      "metadata": {
        "id": "4KCia3dORIFU"
      },
      "source": [
        "# 3. Linear Separbility of SHD\n",
        "---\n",
        "We'll use a simple Logistic Regression algorithm to classify the SHD dataset.\n",
        "\n",
        "Contrary to the \"conventional\" way of process temporal sequences, which implies processing inputs in a streaming fashion, we'll store the whole input sequence in memory.\n",
        "\n",
        "Then, we will be looking at the whole information contained in a datapoint at once. Such a datapoint has 'num_channels' input channels and different 'time_step' entries --> as a consequence, the input size is:\n",
        "\n",
        "$   n\\_input = num\\_channels \\cdot time\\_step$\n",
        "\n",
        "Such input is processed with Logistic Regression, thus with a single-layer neural network, or perceptron. We'll use the \"Linear\" module from Pytorch for this model.\n",
        "\n",
        "Solving such task with Logistic Regression will provide a reference for the Linear Separability of SHD, i.e. the classification accuracy obtained with a Linear Model."
      ]
    },
    {
      "cell_type": "code",
      "execution_count": null,
      "metadata": {
        "colab": {
          "base_uri": "https://localhost:8080/"
        },
        "id": "CQQCZlVfRIFV",
        "outputId": "5b8fc04f-d884-43ba-a7a3-8547d597c83a"
      },
      "outputs": [
        {
          "output_type": "stream",
          "name": "stdout",
          "text": [
            "Available at: /root/data/audiospikes/shd_train.h5\n",
            "Available at: /root/data/audiospikes/shd_test.h5\n",
            "Epoch 1, Train Acc: 27.52, Train Loss: 2.8365\n",
            "Epoch 2, Train Acc: 46.43, Train Loss: 2.6525\n",
            "Epoch 3, Train Acc: 54.54, Train Loss: 2.5589\n",
            "Epoch 4, Train Acc: 58.48, Train Loss: 2.5154\n",
            "Epoch 5, Train Acc: 61.83, Train Loss: 2.4819\n"
          ]
        }
      ],
      "source": [
        "max_time = 1.4\n",
        "time_steps = 512\n",
        "dt = max_time/time_steps\n",
        "batch_size = 128\n",
        "num_channels = 700\n",
        "epochs = 150\n",
        "lr = 1e-1\n",
        "weight_decay = 2e-4\n",
        "tot_iters = 10\n",
        "# Loading the dataset with the desired format/sizes\n",
        "train_ds, test_ds = get_numpy_datasets(dataset_name='shd', nb_steps=time_steps, n_inp=num_channels)\n",
        "train_dl = NumpyLoader(train_ds[0], batch_size=batch_size, num_workers=0, drop_last=True)\n",
        "test_dl = NumpyLoader(test_ds[0], batch_size=batch_size, num_workers=0, drop_last=True)\n",
        "# defining the model and the optimization algo\n",
        "model = torch.nn.Linear( in_features=(num_channels*time_steps), out_features=20 ).to(device)\n",
        "optimizer =torch.optim.SGD( model.parameters(), lr=lr, weight_decay=weight_decay )\n",
        "scheduler = torch.optim.lr_scheduler.LinearLR(optimizer, start_factor=1.0, end_factor=0.5, total_iters=tot_iters, last_epoch=-1, verbose=False)\n",
        "\n",
        "[train_losses, train_accs], [test_loss, test_acc] = training_SHD( epochs, model, lr, weight_decay, train_dl, batch_size, test_dl, device,\n",
        "                                                                  optimizer=optimizer, scheduler=scheduler, verbose=True )"
      ]
    },
    {
      "cell_type": "code",
      "execution_count": null,
      "metadata": {
        "id": "ZzSoBSckRIFW"
      },
      "outputs": [],
      "source": [
        "root = '/Users/filippomoro/Documents/Jupyter_Notebooks_old/Delay_computation/Results'\n",
        "file_name = root + '/LR_max_acc.plk'\n",
        "\n",
        "dict_lr_max = {\n",
        "    'accs_test' : test_acc,\n",
        "    'accs_train' : train_accs[-1],\n",
        "    'max_time' : max_time,\n",
        "    'time_steps' : time_steps,\n",
        "    'num_channels' : num_channels,\n",
        "    'epochs' : epochs,\n",
        "    'lr' : lr\n",
        "}\n",
        "\n",
        "import pickle\n",
        "pickle.dump( dict_lr_max, open( file_name, 'wb' ) )"
      ]
    },
    {
      "cell_type": "markdown",
      "metadata": {
        "id": "BlpbyXoRRIFW"
      },
      "source": [
        "### Impact of the number of Input Channels\n",
        "---"
      ]
    },
    {
      "cell_type": "code",
      "execution_count": null,
      "metadata": {
        "colab": {
          "base_uri": "https://localhost:8080/"
        },
        "id": "cdlm7NN7RIFW",
        "outputId": "4dd4f3c7-3e7b-46ae-8ca2-e8b75b8e4939"
      },
      "outputs": [
        {
          "output_type": "stream",
          "name": "stdout",
          "text": [
            "-- Num Channels 700\n",
            "Available at: /root/data/audiospikes/shd_train.h5\n",
            "Available at: /root/data/audiospikes/shd_test.h5\n",
            "    Rep 0, Test Accuracy 88.92%\n",
            "    Rep 1, Test Accuracy 93.29%\n",
            "    Rep 2, Test Accuracy 93.40%\n",
            "    Rep 3, Test Accuracy 92.90%\n",
            "    Rep 4, Test Accuracy 92.89%\n",
            "-- Num Channels 256\n",
            "Available at: /root/data/audiospikes/shd_train.h5\n",
            "Available at: /root/data/audiospikes/shd_test.h5\n",
            "    Rep 0, Test Accuracy 83.71%\n",
            "    Rep 1, Test Accuracy 79.25%\n",
            "    Rep 2, Test Accuracy 83.70%\n",
            "    Rep 3, Test Accuracy 83.72%\n",
            "    Rep 4, Test Accuracy 74.65%\n",
            "-- Num Channels 128\n",
            "Available at: /root/data/audiospikes/shd_train.h5\n",
            "Available at: /root/data/audiospikes/shd_test.h5\n",
            "    Rep 0, Test Accuracy 83.22%\n",
            "    Rep 1, Test Accuracy 76.52%\n",
            "    Rep 2, Test Accuracy 79.71%\n",
            "    Rep 3, Test Accuracy 80.79%\n",
            "    Rep 4, Test Accuracy 79.24%\n",
            "-- Num Channels 64\n",
            "Available at: /root/data/audiospikes/shd_train.h5\n",
            "Available at: /root/data/audiospikes/shd_test.h5\n",
            "    Rep 0, Test Accuracy 78.98%\n",
            "    Rep 1, Test Accuracy 78.28%\n",
            "    Rep 2, Test Accuracy 79.04%\n",
            "    Rep 3, Test Accuracy 82.71%\n",
            "    Rep 4, Test Accuracy 78.57%\n"
          ]
        }
      ],
      "source": [
        "max_time = 1.4\n",
        "time_steps = 256\n",
        "dt = max_time/time_steps\n",
        "batch_size = 128\n",
        "epochs = 150\n",
        "lr = 1e-1\n",
        "tot_iters = 10\n",
        "weight_decay = 2e-4\n",
        "\n",
        "# list of number of inputs\n",
        "reps = 5\n",
        "num_channels_list = [700, 256, 128, 64]\n",
        "\n",
        "# results\n",
        "accs_num_channels_test, accs_num_channels_train = [], []\n",
        "for n, num_channels in enumerate( num_channels_list ):\n",
        "    accs_tmp = []; accs_train_tmp =[]\n",
        "    print(f'-- Num Channels {num_channels}')\n",
        "    # Loading the dataset with the desired format/sizes\n",
        "    train_ds, test_ds = get_numpy_datasets(dataset_name='shd', nb_steps=time_steps, n_inp=num_channels)\n",
        "    train_dl = NumpyLoader(train_ds[0], batch_size=batch_size, num_workers=0, drop_last=True)\n",
        "    test_dl = NumpyLoader(test_ds[0], batch_size=batch_size, num_workers=0, drop_last=True)\n",
        "    for r in range(reps):\n",
        "        # initializing a new model\n",
        "        model = torch.nn.Linear( in_features=(num_channels*time_steps), out_features=20 ).to(device)\n",
        "        optimizer =torch.optim.SGD( model.parameters(), lr=lr, weight_decay=weight_decay )\n",
        "        scheduler = torch.optim.lr_scheduler.LinearLR(optimizer, start_factor=1.0, end_factor=0.5, total_iters=tot_iters, last_epoch=-1, verbose=False)\n",
        "        # training the model\n",
        "        [train_losses, train_accs], [test_loss, test_acc] = training_SHD( epochs, model, lr, weight_decay, train_dl, batch_size, test_dl, device,\n",
        "                                                                            optimizer=optimizer, scheduler=scheduler, verbose=False )\n",
        "        # collecting the results\n",
        "        print(f'    Rep {r}, Test Accuracy {test_acc*100:.2f}%')\n",
        "        accs_tmp.append( test_acc )\n",
        "        accs_train_tmp.append( train_accs[-1] )\n",
        "    accs_num_channels_test.append( accs_tmp )\n",
        "    accs_num_channels_train.append( accs_train_tmp )"
      ]
    },
    {
      "cell_type": "code",
      "execution_count": null,
      "metadata": {
        "id": "TmU-HkVqRIFW"
      },
      "outputs": [],
      "source": [
        "root = '/content/drive/MyDrive/Colab Notebooks/Delay_computation/Results'\n",
        "file_name = root + '/LR_num_channels_2.plk'\n",
        "\n",
        "dict_lr_num_channels = {\n",
        "    'accs_test' : np.array(accs_num_channels_test),\n",
        "    'accs_train' : np.array(accs_num_channels_train),\n",
        "    'num_channels_list' : num_channels_list,\n",
        "    'max_time' : max_time,\n",
        "    'time_steps' : time_steps,\n",
        "    'num_channels' : num_channels,\n",
        "    'epochs' : epochs,\n",
        "    'lr' : lr\n",
        "}\n",
        "\n",
        "import pickle\n",
        "pickle.dump( dict_lr_num_channels, open( file_name, 'wb' ) )"
      ]
    },
    {
      "cell_type": "code",
      "execution_count": null,
      "metadata": {
        "id": "0fwcBXttRIFX",
        "outputId": "b8eeffbe-7f14-4902-a5ca-206e217b8dec",
        "colab": {
          "base_uri": "https://localhost:8080/",
          "height": 407
        }
      },
      "outputs": [
        {
          "output_type": "display_data",
          "data": {
            "text/plain": [
              "<Figure size 500x400 with 1 Axes>"
            ],
            "image/png": "[encoded data removed]"
          },
          "metadata": {}
        }
      ],
      "source": [
        "# Load and plot the results\n",
        "root = '/content/drive/MyDrive/Colab Notebooks/Delay_computation/Results'\n",
        "file_name = root + '/LR_num_channels_2.plk'\n",
        "\n",
        "import pickle\n",
        "dict_load = pickle.load( open( file_name, 'rb' ) )\n",
        "\n",
        "accs_test = np.array( dict_load['accs_test'] )#.reshape(-1,1)\n",
        "accs_train = np.array( dict_load['accs_train'] )#.reshape(-1,1)\n",
        "time_steps = np.array( dict_load['time_steps'] )\n",
        "num_channels_list = np.array( dict_load['num_channels_list'] )\n",
        "\n",
        "fig, ax = plt.subplots( figsize=(5, 4) )\n",
        "ax.plot( num_channels_list, 1e2*np.mean( accs_test, axis=1 ), color='tab:green', lw=2.5, marker='o', markersize=8 )\n",
        "ax.set_xticks( num_channels_list )\n",
        "ax.hlines( 75.0, -1e5, 1e5, color='purple', alpha=0.4, lw=4 )\n",
        "ax.hlines( 95.4, -1e5, 1e5, color='blue', alpha=0.4, lw=4 )\n",
        "ax.set_xlabel( '# Input channels', size=16 )\n",
        "ax.set_ylabel( 'Accuracy [%]', size=16 )\n",
        "ax.set_title( f'Logistic Regression, {time_steps} time steps', size=16 )\n",
        "ax.tick_params( direction='in', labelsize=16, size=4 )\n",
        "ax.set_xlim( min(num_channels_list)-25, max(num_channels_list)+25 )\n",
        "ax.set_yticks( np.arange(70, 105, 5) )\n",
        "ax.set_ylim( 68, 102 )\n",
        "ax.text( 600, 96.5, 'SOTA', color='blue', size=15 )\n",
        "ax.text( 600, 76, 'RSNN', color='purple', size=15 )\n",
        "ax.grid()\n",
        "plt.tight_layout()\n",
        "fig.savefig( root+'/LR_num_chanels_2.pdf', dpi=300, transparent=False )"
      ]
    },
    {
      "cell_type": "markdown",
      "metadata": {
        "id": "bslSCJF-RIFX"
      },
      "source": [
        "### Impact of the number of Time steps\n",
        "---"
      ]
    },
    {
      "cell_type": "code",
      "execution_count": null,
      "metadata": {
        "id": "BYsUXknSRIFX",
        "outputId": "6b863a71-f6c6-4ec5-c431-25e8b15c3b34",
        "colab": {
          "base_uri": "https://localhost:8080/"
        }
      },
      "outputs": [
        {
          "output_type": "stream",
          "name": "stdout",
          "text": [
            "-- Num Time Steps 512\n",
            "Downloading data from https://zenkelab.org/datasets/shd_train.h5.gz\n",
            "Decompressing /root/data/audiospikes/shd_train.h5.gz\n",
            "Available at: /root/data/audiospikes/shd_train.h5\n",
            "Available at: /root/data/audiospikes/shd_test.h5\n"
          ]
        }
      ],
      "source": [
        "max_time = 1.4\n",
        "batch_size = 128\n",
        "epochs = 100\n",
        "lr = 1e-1\n",
        "weight_decay = 2e-4\n",
        "num_channels = 700\n",
        "tot_iters = 10\n",
        "# list of number of inputs\n",
        "reps = 5\n",
        "time_steps_list =  [512, 256, 128, 64] #[250, 64, 128, 512]\n",
        "\n",
        "# results\n",
        "accs_time_steps_test, accs_time_steps_train = [], []\n",
        "for n, time_steps in enumerate( time_steps_list ):\n",
        "    print(f'-- Num Time Steps {time_steps}')\n",
        "    train_tmp, test_tmp = [], []\n",
        "    # Loading the dataset with the desired format/sizes\n",
        "    train_ds, test_ds = get_numpy_datasets(dataset_name='shd', nb_steps=time_steps, n_inp=num_channels)\n",
        "    train_dl = NumpyLoader(train_ds[0], batch_size=batch_size, num_workers=0, drop_last=True)\n",
        "    test_dl = NumpyLoader(test_ds[0], batch_size=batch_size, num_workers=0, drop_last=True)\n",
        "    for r in range(reps):\n",
        "        # initializing a new model\n",
        "        model = torch.nn.Linear( in_features=(num_channels*time_steps), out_features=20 ).to(device)\n",
        "        optimizer =torch.optim.SGD( model.parameters(), lr=lr, weight_decay=weight_decay )\n",
        "        scheduler = torch.optim.lr_scheduler.LinearLR(optimizer, start_factor=1.0, end_factor=0.1, total_iters=tot_iters, last_epoch=-1, verbose=False)\n",
        "        # training the model\n",
        "        [train_losses, train_accs], [test_loss, test_acc] = training_SHD( epochs, model, lr, weight_decay, train_dl, batch_size, test_dl, device,\n",
        "                                                                            optimizer=optimizer, scheduler=scheduler, verbose=False )\n",
        "        # collecting the results\n",
        "        test_tmp.append( test_acc )\n",
        "        train_tmp.append( train_accs[-1] )\n",
        "        print(f'    Rep {r}, Test Accuracy {test_acc*100:.2f}')\n",
        "    accs_time_steps_test.append( test_tmp )\n",
        "    accs_time_steps_train.append( train_tmp )"
      ]
    },
    {
      "cell_type": "code",
      "execution_count": null,
      "metadata": {
        "id": "WS7j_kAIRIFX"
      },
      "outputs": [],
      "source": [
        "root = '/content/drive/MyDrive/Colab Notebooks/Delay_computation/Results'\n",
        "file_name = root + '/LR_time_steps_2.plk'\n",
        "\n",
        "dict_lr_time_steps = {\n",
        "    'accs_test' : accs_time_steps_test,\n",
        "    'accs_train' : accs_time_steps_train,\n",
        "    'num_channels' : num_channels,\n",
        "    'time_steps_list' : time_steps_list,\n",
        "    'max_time' : max_time,\n",
        "    'time_steps' : time_steps,\n",
        "    'epochs' : epochs,\n",
        "    'lr' : lr\n",
        "}\n",
        "\n",
        "import pickle\n",
        "pickle.dump( dict_lr_time_steps, open( file_name, 'wb' ) )"
      ]
    },
    {
      "cell_type": "code",
      "execution_count": null,
      "metadata": {
        "id": "1UtDYe4nRIFX",
        "outputId": "6d183ef3-1cce-4a8a-e38f-e7f51a648b06"
      },
      "outputs": [
        {
          "data": {
            "image/png": "[encoded data removed]",
            "text/plain": [
              "<Figure size 500x400 with 1 Axes>"
            ]
          },
          "metadata": {},
          "output_type": "display_data"
        }
      ],
      "source": [
        "# Load and plot the results\n",
        "root = '/content/drive/MyDrive/Colab Notebooks/Delay_computation/Results'\n",
        "file_name = root + '/LR_time_steps_2.plk'\n",
        "\n",
        "import pickle\n",
        "dict_load = pickle.load( open( file_name, 'rb' ) )\n",
        "\n",
        "accs_test = np.array( dict_load['accs_test'] )\n",
        "accs_train = np.array( dict_load['accs_train'] )\n",
        "num_channels = np.array( dict_load['num_channels'] )\n",
        "time_steps_list = np.array( dict_load['time_steps_list'] )\n",
        "\n",
        "fig, ax = plt.subplots( figsize=(5, 4) )\n",
        "# ax.plot( time_steps_list[[1,2,0,3]], 1e2*np.mean( accs_test, axis=1 )[[1,2,0,3]], color='tab:green', lw=2.5, marker='o', markersize=8 )\n",
        "# ax.set_xticks( time_steps_list[[1,2,0,3]] )\n",
        "ax.plot( time_steps_list, 1e2*np.mean( accs_test, axis=1 ), color='tab:green', lw=2.5, marker='o', markersize=8 )\n",
        "ax.set_xticks( time_steps_list )\n",
        "ax.hlines( 75.0, -1e5, 1e5, color='purple', alpha=0.4, lw=4 )\n",
        "ax.hlines( 95.4, -1e5, 1e5, color='blue', alpha=0.4, lw=4 )\n",
        "ax.set_xlabel( '# time steps', size=16 )\n",
        "ax.set_ylabel( 'Accuracy [%]', size=16 )\n",
        "ax.set_title( f'Logistic Regression, {num_channels} IN channels', size=16 )\n",
        "ax.tick_params( direction='in', labelsize=16, size=4 )\n",
        "ax.set_xlim( min(time_steps_list)-25, max(time_steps_list)+25 )\n",
        "ax.set_ylim( 72, 102 )\n",
        "ax.set_yticks( np.arange(70, 105, 5) )\n",
        "ax.text( 350, 97, 'SOTA', color='blue' )\n",
        "ax.text( 350, 77, 'RSNN', color='purple' )\n",
        "\n",
        "plt.tight_layout()\n",
        "fig.savefig( root+'/LR_time_steps_2.pdf', dpi=300, transparent=False )"
      ]
    },
    {
      "cell_type": "markdown",
      "metadata": {
        "id": "0eOqdY5hRIFX"
      },
      "source": [
        "# 3. SHD classification with MLP\n",
        "---"
      ]
    },
    {
      "cell_type": "code",
      "execution_count": null,
      "metadata": {
        "id": "tfihxmvYRIFX",
        "outputId": "0cdb2d53-e47b-463c-a523-c3e603700515"
      },
      "outputs": [
        {
          "name": "stdout",
          "output_type": "stream",
          "text": [
            "Epoch 1, Train Acc: 77.05, Train Loss: 2.3496\n",
            "Epoch 2, Train Acc: 94.38, Train Loss: 2.1567\n",
            "Epoch 3, Train Acc: 96.03, Train Loss: 2.1377\n",
            "Epoch 4, Train Acc: 96.36, Train Loss: 2.1345\n",
            "Epoch 5, Train Acc: 96.61, Train Loss: 2.1310\n",
            "Epoch 6, Train Acc: 96.76, Train Loss: 2.1291\n",
            "Epoch 7, Train Acc: 97.06, Train Loss: 2.1256\n",
            "Epoch 8, Train Acc: 97.44, Train Loss: 2.1227\n",
            "Epoch 9, Train Acc: 97.77, Train Loss: 2.1171\n",
            "Epoch 10, Train Acc: 97.68, Train Loss: 2.1189\n",
            "Epoch 11, Train Acc: 98.05, Train Loss: 2.1140\n",
            "Epoch 12, Train Acc: 97.91, Train Loss: 2.1153\n",
            "Epoch 13, Train Acc: 98.15, Train Loss: 2.1130\n",
            "Epoch 14, Train Acc: 98.25, Train Loss: 2.1111\n",
            "Epoch 15, Train Acc: 98.12, Train Loss: 2.1122\n",
            "Epoch 16, Train Acc: 98.50, Train Loss: 2.1076\n",
            "Epoch 17, Train Acc: 98.48, Train Loss: 2.1073\n",
            "Epoch 18, Train Acc: 98.67, Train Loss: 2.1055\n",
            "Epoch 19, Train Acc: 98.54, Train Loss: 2.1061\n",
            "Epoch 20, Train Acc: 98.64, Train Loss: 2.1047\n",
            "Epoch 20, Test Acc: 93.80\n"
          ]
        }
      ],
      "source": [
        "max_time = 1.4\n",
        "time_steps = 256\n",
        "num_channels = 256\n",
        "batch_size = 128\n",
        "epochs = 20\n",
        "lr = 1e-3\n",
        "weight_decay = 2e-4\n",
        "# Loading the dataset with the desired format/sizes\n",
        "train_ds, test_ds = get_numpy_datasets(dataset_name='shd', nb_steps=time_steps, n_inp=num_channels)\n",
        "train_dl = NumpyLoader(train_ds[0], batch_size=batch_size, num_workers=0, drop_last=True)\n",
        "test_dl = NumpyLoader(test_ds[0], batch_size=batch_size, num_workers=0, drop_last=True)\n",
        "# Defining the model\n",
        "model = MLP( in_channels=num_channels*time_steps, hidden_channels=[1048, 20], norm_layer=torch.nn.BatchNorm1d , activation_layer=torch.nn.ReLU )\n",
        "optimizer =torch.optim.Adam( model.parameters(), lr=lr, weight_decay=weight_decay )\n",
        "scheduler = torch.optim.lr_scheduler.LinearLR(optimizer, start_factor=1.0, end_factor=0.1, total_iters=10, last_epoch=-1, verbose=False)\n",
        "\n",
        "[train_losses, train_accs], [test_loss, test_acc] = training_SHD( epochs, model, lr, weight_decay, train_dl, batch_size, test_dl, device,\n",
        "                                                                  optimizer=optimizer, scheduler=scheduler, verbose=True )\n",
        "\n"
      ]
    },
    {
      "cell_type": "markdown",
      "metadata": {
        "id": "5K_IljV0RIFY"
      },
      "source": [
        "### MLP: hidden layer size"
      ]
    },
    {
      "cell_type": "code",
      "execution_count": null,
      "metadata": {
        "id": "noGfKhVbRIFY",
        "outputId": "ba8675ab-9cd9-4c6f-afe6-c11c5aa1ca0f"
      },
      "outputs": [
        {
          "name": "stdout",
          "output_type": "stream",
          "text": [
            "-- Num Hidden Size 128\n"
          ]
        },
        {
          "name": "stderr",
          "output_type": "stream",
          "text": [
            "/var/folders/gr/cpg6p4_95b3fghclqyk0n2d00000gn/T/ipykernel_4627/3238180856.py:41: UserWarning: torch.sparse.SparseTensor(indices, values, shape, *, device=) is deprecated.  Please use torch.sparse_coo_tensor(indices, values, shape, dtype=, device=). (Triggered internally at /Users/runner/work/_temp/anaconda/conda-bld/pytorch_1678176539774/work/torch/csrc/utils/tensor_new.cpp:591.)\n",
            "  X_batch = torch.sparse.FloatTensor(i, v, torch.Size([batch_size,nb_steps,nb_units])).to(device)\n"
          ]
        },
        {
          "name": "stdout",
          "output_type": "stream",
          "text": [
            "    Rep 0, Test Accuracy 91.79\n",
            "-- Num Hidden Size 512\n",
            "    Rep 0, Test Accuracy 93.34\n",
            "-- Num Hidden Size 1024\n",
            "    Rep 0, Test Accuracy 94.17\n",
            "-- Num Hidden Size 2048\n",
            "    Rep 0, Test Accuracy 94.83\n"
          ]
        }
      ],
      "source": [
        "max_time = 1.4\n",
        "time_steps = 256\n",
        "num_channels = 256\n",
        "batch_size = 128\n",
        "epochs = 60\n",
        "lr = 1e-1\n",
        "weight_decay = 1e-4\n",
        "\n",
        "# list of number of inputs\n",
        "reps = 5\n",
        "hidden_size_list = [128, 512, 1024, 2048]\n",
        "\n",
        "# Loading the dataset with the desired format/sizes\n",
        "train_ds, test_ds = get_numpy_datasets(dataset_name='shd', nb_steps=time_steps, n_inp=num_channels)\n",
        "train_dl = NumpyLoader(train_ds[0], batch_size=batch_size, num_workers=0, drop_last=True)\n",
        "test_dl = NumpyLoader(test_ds[0], batch_size=batch_size, num_workers=0, drop_last=True)\n",
        "\n",
        "# results\n",
        "accs_test, accs_train = [], []\n",
        "for n, hidden_size in enumerate( hidden_size_list ):\n",
        "    print(f'-- Num Hidden Size {hidden_size}')\n",
        "    for r in range(reps):\n",
        "        # initializing a new model\n",
        "        model = MLP( in_channels=num_channels*time_steps, hidden_channels=[hidden_size, 20], norm_layer=torch.nn.BatchNorm1d , activation_layer=torch.nn.ReLU )\n",
        "        optimizer =torch.optim.Adam( model.parameters(), lr=lr, weight_decay=weight_decay )\n",
        "        scheduler = torch.optim.lr_scheduler.LinearLR(optimizer, start_factor=1.0, end_factor=0.1, total_iters=10, last_epoch=-1, verbose=False)\n",
        "        # training the model\n",
        "        [train_losses, train_accs], [test_loss, test_acc] = training_SHD( epochs, model, lr, weight_decay, train_dl, batch_size, test_dl, device,\n",
        "                                                                            optimizer=optimizer, scheduler=scheduler, verbose=True )\n",
        "        # collecting the results\n",
        "        accs_test.append( test_acc )\n",
        "        accs_train.append( train_accs[-1] )\n",
        "        print(f'    Rep {r}, Test Accuracy {test_acc*100:.2f}')"
      ]
    },
    {
      "cell_type": "code",
      "execution_count": null,
      "metadata": {
        "id": "gsS6eW1FRIFY"
      },
      "outputs": [],
      "source": [
        "root = '/content/drive/MyDrive/Colab Notebooks/Delay_computation/Results'\n",
        "file_name = root + '/MLP_hidden_sizes.plk'\n",
        "\n",
        "dict_mlp_hidden_sizes = {\n",
        "    'accs_test' : accs_test,\n",
        "    'accs_train' : accs_train,\n",
        "    'hidden_size_list' : hidden_size_list,\n",
        "    'max_time' : max_time,\n",
        "    'time_steps' : time_steps,\n",
        "    'num_channels' : num_channels,\n",
        "    'epochs' : epochs,\n",
        "    'lr' : lr\n",
        "}\n",
        "\n",
        "import pickle\n",
        "pickle.dump( dict_mlp_hidden_sizes, open( file_name, 'wb' ) )"
      ]
    },
    {
      "cell_type": "code",
      "execution_count": null,
      "metadata": {
        "id": "9NfyRnhrRIFY",
        "outputId": "abb0ccca-a2bb-4425-ebc8-dd70ebcf9ef3"
      },
      "outputs": [
        {
          "data": {
            "image/png": "[encoded data removed]",
            "text/plain": [
              "<Figure size 500x400 with 1 Axes>"
            ]
          },
          "metadata": {},
          "output_type": "display_data"
        }
      ],
      "source": [
        "# Load and plot the results\n",
        "root = '/content/drive/MyDrive/Colab Notebooks/Delay_computation/Results'\n",
        "file_name = root + '/MLP_hidden_sizes.plk'\n",
        "\n",
        "import pickle\n",
        "dict_load = pickle.load( open( file_name, 'rb' ) )\n",
        "\n",
        "accs_test = np.array( dict_load['accs_test'] ).reshape(-1,1)\n",
        "accs_train = np.array( dict_load['accs_train'] ).reshape(-1,1)\n",
        "num_channels = np.array( dict_load['num_channels'] )\n",
        "time_steps = np.array( dict_load['time_steps'] )\n",
        "hidden_size_list = np.array( dict_load['hidden_size_list'] )\n",
        "\n",
        "fig, ax = plt.subplots( figsize=(5, 4) )\n",
        "ax.plot( hidden_size_list, 1e2*np.mean( accs_test, axis=1 ), color='tab:green', lw=2.5, marker='o', markersize=8 )\n",
        "ax.set_xticks( hidden_size_list )\n",
        "ax.hlines( 75.0, -1e5, 1e5, color='purple', alpha=0.4, lw=4 )\n",
        "ax.hlines( 95.4, -1e5, 1e5, color='blue', alpha=0.4, lw=4 )\n",
        "ax.set_xlabel( 'Hidden Layer size', size=16 )\n",
        "ax.set_ylabel( 'Accuracy [%]', size=16 )\n",
        "ax.set_title( f'MLP, {num_channels} IN channels', size=16 )\n",
        "ax.tick_params( direction='in', labelsize=16, size=4 )\n",
        "ax.set_xlim( min(hidden_size_list)-50, max(hidden_size_list)+50 )\n",
        "ax.set_ylim( 72, 102 )\n",
        "ax.set_yticks( np.arange(75, 105, 5) )\n",
        "ax.text( 350, 97, 'SOTA', color='blue' )\n",
        "ax.text( 350, 77, 'RSNN', color='purple' )\n",
        "\n",
        "plt.tight_layout()\n",
        "fig.savefig( root+'/MLP_hidden_size.pdf', dpi=300, transparent=False )"
      ]
    },
    {
      "cell_type": "markdown",
      "metadata": {
        "id": "CiAYeDDGRIFY"
      },
      "source": [
        "### MLP: input size"
      ]
    },
    {
      "cell_type": "code",
      "execution_count": null,
      "metadata": {
        "id": "MV5OTPeYRIFY",
        "outputId": "73f38097-f2e6-4686-c6a6-8ceedb2d9fc7"
      },
      "outputs": [
        {
          "name": "stdout",
          "output_type": "stream",
          "text": [
            "-- Num Input Channels 64\n"
          ]
        },
        {
          "name": "stderr",
          "output_type": "stream",
          "text": [
            "/var/folders/gr/cpg6p4_95b3fghclqyk0n2d00000gn/T/ipykernel_5757/3238180856.py:41: UserWarning: torch.sparse.SparseTensor(indices, values, shape, *, device=) is deprecated.  Please use torch.sparse_coo_tensor(indices, values, shape, dtype=, device=). (Triggered internally at /Users/runner/work/_temp/anaconda/conda-bld/pytorch_1678176539774/work/torch/csrc/utils/tensor_new.cpp:591.)\n",
            "  X_batch = torch.sparse.FloatTensor(i, v, torch.Size([batch_size,nb_steps,nb_units])).to(device)\n"
          ]
        },
        {
          "name": "stdout",
          "output_type": "stream",
          "text": [
            "    Rep 0, Test Accuracy 83.74\n",
            "-- Num Input Channels 128\n",
            "    Rep 0, Test Accuracy 84.67\n",
            "-- Num Input Channels 256\n",
            "    Rep 0, Test Accuracy 91.01\n",
            "-- Num Input Channels 700\n",
            "    Rep 0, Test Accuracy 94.01\n"
          ]
        }
      ],
      "source": [
        "max_time = 1.4\n",
        "time_steps = 250\n",
        "num_channels = 700\n",
        "batch_size = 128\n",
        "epochs = 40\n",
        "lr = 1e-1\n",
        "weight_decay = 1e-4\n",
        "hidden_size = 1024\n",
        "\n",
        "# list of number of inputs\n",
        "reps = 1\n",
        "num_channels_list = [64, 128, 256, 700]\n",
        "\n",
        "# results\n",
        "accs_test, accs_train = [], []\n",
        "for n, num_channels in enumerate( num_channels_list ):\n",
        "    print(f'-- Num Input Channels {num_channels}')\n",
        "    # dataset definition\n",
        "    train_ds, test_ds = get_numpy_datasets(dataset_name='shd', nb_steps=time_steps, n_inp=num_channels)\n",
        "    train_dl = NumpyLoader(train_ds[0], batch_size=batch_size, num_workers=0, drop_last=True)\n",
        "    test_dl = NumpyLoader(test_ds[0], batch_size=batch_size, num_workers=0, drop_last=True)\n",
        "    for r in range(reps):\n",
        "        # initializing a new model\n",
        "        model = MLP( in_channels=num_channels*time_steps, hidden_channels=[hidden_size, 20], norm_layer=torch.nn.BatchNorm1d , activation_layer=torch.nn.ReLU )\n",
        "        optimizer =torch.optim.Adam( model.parameters(), lr=lr, weight_decay=weight_decay )\n",
        "        scheduler = torch.optim.lr_scheduler.LinearLR(optimizer, start_factor=1.0, end_factor=0.1, total_iters=10, last_epoch=-1, verbose=False)\n",
        "        # training the model\n",
        "        [train_losses, train_accs], [test_loss, test_acc] = training_SHD( epochs, model, lr, weight_decay, train_dl, batch_size, test_dl, device,\n",
        "                                                                            optimizer=optimizer, scheduler=scheduler, verbose=True )\n",
        "        # collecting the results\n",
        "        accs_test.append( test_acc )\n",
        "        accs_train.append( train_accs[-1] )\n",
        "        print(f'    Rep {r}, Test Accuracy {test_acc*100:.2f}')"
      ]
    },
    {
      "cell_type": "code",
      "execution_count": null,
      "metadata": {
        "id": "h11GW7qtRIFY"
      },
      "outputs": [],
      "source": [
        "root = '/content/drive/MyDrive/Colab Notebooks/Delay_computation/Results'\n",
        "file_name = root + '/MLP_num_channels.plk'\n",
        "\n",
        "dict_mlp_num_channels = {\n",
        "    'accs_test' : accs_test,\n",
        "    'accs_train' : accs_train,\n",
        "    'num_channels_list' : num_channels_list,\n",
        "    'max_time' : max_time,\n",
        "    'time_steps' : time_steps,\n",
        "    'hidden_size' : hidden_size,\n",
        "    'epochs' : epochs,\n",
        "    'lr' : lr\n",
        "}\n",
        "\n",
        "import pickle\n",
        "pickle.dump( dict_mlp_num_channels, open( file_name, 'wb' ) )"
      ]
    },
    {
      "cell_type": "code",
      "execution_count": null,
      "metadata": {
        "id": "IYxNXekCRIFY",
        "outputId": "8f2ac301-0b8e-4709-882f-7f18f12396b3"
      },
      "outputs": [
        {
          "data": {
            "image/png": "[encoded data removed]",
            "text/plain": [
              "<Figure size 500x400 with 1 Axes>"
            ]
          },
          "metadata": {},
          "output_type": "display_data"
        }
      ],
      "source": [
        "# Load and plot the results\n",
        "root = '/content/drive/MyDrive/Colab Notebooks/Delay_computation/Results'\n",
        "file_name = root + '/MLP_num_channels.plk'\n",
        "\n",
        "import pickle\n",
        "dict_load = pickle.load( open( file_name, 'rb' ) )\n",
        "\n",
        "accs_test = np.array( dict_load['accs_test'] ).reshape(-1,1)\n",
        "accs_train = np.array( dict_load['accs_train'] ).reshape(-1,1)\n",
        "time_steps = np.array( dict_load['time_steps'] )\n",
        "hidden_size = np.array( dict_load['hidden_size'] )\n",
        "num_channels_list = np.array( dict_load['num_channels_list'] )\n",
        "\n",
        "fig, ax = plt.subplots( figsize=(5, 4) )\n",
        "ax.plot( num_channels_list, 1e2*np.mean( accs_test, axis=1 ), color='tab:green', lw=2.5, marker='o', markersize=8 )\n",
        "ax.set_xticks( num_channels_list )\n",
        "ax.hlines( 75.0, -1e5, 1e5, color='purple', alpha=0.4, lw=4 )\n",
        "ax.hlines( 95.4, -1e5, 1e5, color='blue', alpha=0.4, lw=4 )\n",
        "ax.set_xlabel( '# Input channels', size=16 )\n",
        "ax.set_ylabel( 'Accuracy [%]', size=16 )\n",
        "ax.set_title( f'MLP, {hidden_size}: hidden layer size', size=16 )\n",
        "ax.tick_params( direction='in', labelsize=16, size=4 )\n",
        "ax.set_xlim( min(num_channels_list)-20, max(num_channels_list)+20 )\n",
        "ax.set_ylim( 72, 102 )\n",
        "ax.set_yticks( np.arange(75, 105, 5) )\n",
        "ax.text( 350, 97, 'SOTA', color='blue' )\n",
        "ax.text( 350, 77, 'RSNN', color='purple' )\n",
        "\n",
        "plt.tight_layout()\n",
        "fig.savefig( root+'/MLP_num_channels.pdf', dpi=300, transparent=False )"
      ]
    },
    {
      "cell_type": "code",
      "execution_count": null,
      "metadata": {
        "id": "DOdGUHW9RIFZ",
        "outputId": "b082e5dc-e918-45bb-a9e7-1984b92b32ae"
      },
      "outputs": [
        {
          "data": {
            "image/png": "[encoded data removed]",
            "text/plain": [
              "<Figure size 600x400 with 1 Axes>"
            ]
          },
          "metadata": {},
          "output_type": "display_data"
        }
      ],
      "source": [
        "# Load and plot the results\n",
        "root = '/content/drive/MyDrive/Colab Notebooks/Delay_computation/Results'\n",
        "file_name = root + '/MLP_num_channels.plk'\n",
        "\n",
        "import pickle\n",
        "dict_load = pickle.load( open( file_name, 'rb' ) )\n",
        "\n",
        "accs_test_MLP = np.array( dict_load['accs_test'] ).reshape(-1,1)\n",
        "hidden_size = np.array( dict_load['hidden_size'] )\n",
        "time_steps = np.array( dict_load['time_steps'] )\n",
        "num_channels_list = np.array( dict_load['num_channels_list'] )\n",
        "\n",
        "file_name = root + '/LR_num_channels.plk'\n",
        "dict_load = pickle.load( open( file_name, 'rb' ) )\n",
        "accs_test_LR = np.array( dict_load['accs_test'] ).reshape(-1,1)\n",
        "\n",
        "fig, ax = plt.subplots( figsize=(6, 4) )\n",
        "ax.plot( num_channels_list, 1e2*np.mean( accs_test_MLP, axis=1 ), color='tab:green', lw=2.5, marker='o', markersize=8, label='MLP' )\n",
        "ax.plot( num_channels_list, 1e2*np.mean( accs_test_LR, axis=1 )[[3,2,1,0]], color='tab:green', alpha=0.75, lw=2.5, marker='s', markersize=8, label='LR' )\n",
        "ax.set_xticks( num_channels_list )\n",
        "ax.hlines( 75.0, -1e5, 1e5, color='purple', alpha=0.4, lw=4 )\n",
        "ax.hlines( 95.4, -1e5, 1e5, color='blue', alpha=0.4, lw=4 )\n",
        "ax.set_xlabel( '# Input channels', size=16 )\n",
        "ax.set_ylabel( 'Accuracy [%]', size=16 )\n",
        "ax.set_title( f'Time steps: {time_steps}', size=16 )\n",
        "ax.tick_params( direction='in', labelsize=16, size=4 )\n",
        "ax.set_xlim( min(num_channels_list)-20, max(num_channels_list)+20 )\n",
        "ax.set_yticks( np.arange(20, 105, 10) )\n",
        "ax.set_ylim( 25, 105 )\n",
        "ax.text( 350, 97, 'SOTA', color='blue' )\n",
        "ax.text( 350, 77, 'RSNN', color='purple' )\n",
        "ax.legend( prop={'size':14}, loc=4 )\n",
        "\n",
        "plt.tight_layout()\n",
        "fig.savefig( root+'/MLP_LR_num_channels.pdf', dpi=300, transparent=False )"
      ]
    },
    {
      "cell_type": "markdown",
      "metadata": {
        "id": "L9NLElGeRIFZ"
      },
      "source": [
        "# SHD with CNN\n",
        "---"
      ]
    },
    {
      "cell_type": "code",
      "execution_count": null,
      "metadata": {
        "id": "SsX0iwayRIFZ"
      },
      "outputs": [],
      "source": [
        "from torchvision.ops.misc import Conv2dNormActivation\n",
        "from typing import List"
      ]
    },
    {
      "cell_type": "code",
      "execution_count": null,
      "metadata": {
        "id": "xPGYDtPZRIFZ"
      },
      "outputs": [],
      "source": [
        "network_params = [ # in_channels, out_channels, kernel_size, kernel_size_pooling\n",
        "    [ 1,  8, 3, 3],\n",
        "    [8,  16, 3, 3],\n",
        "    [16, 32, 3, 3],\n",
        "    [32, 32, 1, 2],\n",
        "    [32, 64, 1, 1]\n",
        "]\n",
        "\n",
        "class CNN( torch.nn.Module ):\n",
        "    def __init__(self, network_params):\n",
        "        super().__init__()\n",
        "        self.network_params = network_params\n",
        "        features = [] #List[nn.Module]\n",
        "\n",
        "        for n, (i, o, k, kp) in enumerate(network_params):\n",
        "            features.append( Conv2dNormActivation(i, o, k) )\n",
        "            if n != len(network_params)-1:\n",
        "                features.append( torch.nn.MaxPool2d( kp ) )\n",
        "        self.features = nn.Sequential(*features)\n",
        "        self.linear = nn.Linear( 1024, 20 )\n",
        "\n",
        "    def forward( self, x ):\n",
        "        x = torch.unsqueeze( x, 1 )\n",
        "        x = self.features(x)\n",
        "        x = torch.flatten(x, 1)\n",
        "        x = self.linear(x)\n",
        "        return x\n",
        "\n",
        "    def print_out_size(self, x):\n",
        "        x = torch.unsqueeze( x, 1 )\n",
        "        x = self.features(x)\n",
        "        x = torch.flatten(x, 1)\n",
        "        print(x.shape)\n"
      ]
    },
    {
      "cell_type": "code",
      "execution_count": null,
      "metadata": {
        "id": "zVBpDsyPRIFZ"
      },
      "outputs": [],
      "source": [
        "cnn = CNN( network_params=network_params )"
      ]
    },
    {
      "cell_type": "code",
      "execution_count": null,
      "metadata": {
        "id": "HESQinM1RIFZ",
        "outputId": "473e98b6-1a62-457e-a3f2-d117ce277b81"
      },
      "outputs": [
        {
          "name": "stdout",
          "output_type": "stream",
          "text": [
            "torch.Size([128, 1024])\n"
          ]
        }
      ],
      "source": [
        "y = cnn.print_out_size( x_local.to_dense() )\n",
        "# y.shape"
      ]
    },
    {
      "cell_type": "code",
      "execution_count": null,
      "metadata": {
        "colab": {
          "base_uri": "https://localhost:8080/"
        },
        "id": "2uGWuhXlRIFZ",
        "outputId": "05e5840d-549c-4934-ff23-92a5f5394c89"
      },
      "outputs": [
        {
          "output_type": "stream",
          "name": "stdout",
          "text": [
            "features.0.0.weight  torch.Size([8, 1, 3, 3])\n",
            "features.0.1.weight  torch.Size([8])\n",
            "features.0.1.bias  torch.Size([8])\n",
            "features.2.0.weight  torch.Size([16, 8, 3, 3])\n",
            "features.2.1.weight  torch.Size([16])\n",
            "features.2.1.bias  torch.Size([16])\n",
            "features.4.0.weight  torch.Size([32, 16, 3, 3])\n",
            "features.4.1.weight  torch.Size([32])\n",
            "features.4.1.bias  torch.Size([32])\n",
            "features.6.0.weight  torch.Size([32, 32, 1, 1])\n",
            "features.6.1.weight  torch.Size([32])\n",
            "features.6.1.bias  torch.Size([32])\n",
            "features.8.0.weight  torch.Size([64, 32, 1, 1])\n",
            "features.8.1.weight  torch.Size([64])\n",
            "features.8.1.bias  torch.Size([64])\n",
            "linear.weight  torch.Size([20, 1024])\n",
            "linear.bias  torch.Size([20])\n",
            "\n",
            "Model parameter count 29708\n"
          ]
        }
      ],
      "source": [
        "def parameter_count_model(model, verbose=True):\n",
        "    tot_params = 0\n",
        "    for n, p in model.named_parameters():\n",
        "        if verbose: print( n + '  ' + str(p.shape) )\n",
        "        partial = 1\n",
        "        for num in p.shape:\n",
        "            partial *= num\n",
        "        tot_params += partial\n",
        "    if verbose: print('\\nModel parameter count ' + str(tot_params))\n",
        "\n",
        "parameter_count_model( cnn )"
      ]
    },
    {
      "cell_type": "code",
      "execution_count": null,
      "metadata": {
        "colab": {
          "base_uri": "https://localhost:8080/"
        },
        "id": "kaaMHsefRIFZ",
        "outputId": "a6b1426c-6524-497d-a4c9-85c54787ebdc"
      },
      "outputs": [
        {
          "output_type": "stream",
          "name": "stdout",
          "text": [
            "Downloading data from https://zenkelab.org/datasets/shd_train.h5.gz\n",
            "Decompressing /root/data/audiospikes/shd_train.h5.gz\n",
            "Available at: /root/data/audiospikes/shd_train.h5\n",
            "Available at: /root/data/audiospikes/shd_test.h5\n",
            "Epoch 1, Train Acc: 57.51, Train Loss: 2.5589\n",
            "Epoch 2, Train Acc: 82.93, Train Loss: 2.2823\n",
            "Epoch 3, Train Acc: 90.22, Train Loss: 2.1982\n",
            "Epoch 4, Train Acc: 94.29, Train Loss: 2.1559\n",
            "Epoch 5, Train Acc: 96.65, Train Loss: 2.1295\n",
            "Epoch 6, Train Acc: 97.56, Train Loss: 2.1164\n",
            "Epoch 7, Train Acc: 98.11, Train Loss: 2.1086\n",
            "Epoch 8, Train Acc: 98.48, Train Loss: 2.1034\n",
            "Epoch 9, Train Acc: 98.60, Train Loss: 2.1012\n",
            "Epoch 10, Train Acc: 98.83, Train Loss: 2.0974\n",
            "Epoch 11, Train Acc: 98.99, Train Loss: 2.0954\n",
            "Epoch 12, Train Acc: 99.02, Train Loss: 2.0948\n",
            "Epoch 13, Train Acc: 99.25, Train Loss: 2.0914\n",
            "Epoch 14, Train Acc: 99.31, Train Loss: 2.0902\n",
            "Epoch 15, Train Acc: 99.37, Train Loss: 2.0894\n",
            "Epoch 16, Train Acc: 99.41, Train Loss: 2.0887\n",
            "Epoch 17, Train Acc: 99.45, Train Loss: 2.0884\n",
            "Epoch 18, Train Acc: 99.53, Train Loss: 2.0876\n",
            "Epoch 19, Train Acc: 99.57, Train Loss: 2.0862\n",
            "Epoch 20, Train Acc: 99.59, Train Loss: 2.0855\n",
            "Epoch 21, Train Acc: 99.57, Train Loss: 2.0863\n",
            "Epoch 22, Train Acc: 99.51, Train Loss: 2.0874\n",
            "Epoch 23, Train Acc: 99.63, Train Loss: 2.0858\n",
            "Epoch 24, Train Acc: 99.57, Train Loss: 2.0866\n",
            "Epoch 25, Train Acc: 99.51, Train Loss: 2.0875\n",
            "Epoch 26, Train Acc: 99.50, Train Loss: 2.0871\n",
            "Epoch 27, Train Acc: 99.65, Train Loss: 2.0847\n",
            "Epoch 28, Train Acc: 99.73, Train Loss: 2.0832\n",
            "Epoch 29, Train Acc: 99.74, Train Loss: 2.0827\n",
            "Epoch 30, Train Acc: 99.73, Train Loss: 2.0834\n",
            "Epoch 31, Train Acc: 99.66, Train Loss: 2.0853\n",
            "Epoch 32, Train Acc: 99.72, Train Loss: 2.0842\n",
            "Epoch 33, Train Acc: 99.72, Train Loss: 2.0838\n",
            "Epoch 34, Train Acc: 99.67, Train Loss: 2.0857\n",
            "Epoch 35, Train Acc: 99.71, Train Loss: 2.0843\n",
            "Epoch 36, Train Acc: 99.76, Train Loss: 2.0834\n",
            "Epoch 37, Train Acc: 99.68, Train Loss: 2.0846\n",
            "Epoch 38, Train Acc: 99.80, Train Loss: 2.0827\n",
            "Epoch 39, Train Acc: 99.83, Train Loss: 2.0816\n",
            "Epoch 40, Train Acc: 99.84, Train Loss: 2.0811\n",
            "Epoch 41, Train Acc: 99.74, Train Loss: 2.0834\n",
            "Epoch 42, Train Acc: 99.51, Train Loss: 2.0882\n",
            "Epoch 43, Train Acc: 99.74, Train Loss: 2.0839\n",
            "Epoch 44, Train Acc: 99.85, Train Loss: 2.0816\n",
            "Epoch 45, Train Acc: 99.85, Train Loss: 2.0815\n",
            "Epoch 46, Train Acc: 99.86, Train Loss: 2.0817\n",
            "Epoch 47, Train Acc: 99.78, Train Loss: 2.0843\n",
            "Epoch 48, Train Acc: 99.71, Train Loss: 2.0855\n",
            "Epoch 49, Train Acc: 99.81, Train Loss: 2.0830\n",
            "Epoch 50, Train Acc: 99.86, Train Loss: 2.0819\n",
            "Epoch 51, Train Acc: 99.87, Train Loss: 2.0810\n",
            "Epoch 52, Train Acc: 99.87, Train Loss: 2.0810\n",
            "Epoch 53, Train Acc: 99.87, Train Loss: 2.0815\n",
            "Epoch 54, Train Acc: 99.78, Train Loss: 2.0837\n",
            "Epoch 55, Train Acc: 99.66, Train Loss: 2.0860\n",
            "Epoch 56, Train Acc: 99.81, Train Loss: 2.0828\n",
            "Epoch 57, Train Acc: 99.86, Train Loss: 2.0814\n",
            "Epoch 58, Train Acc: 99.85, Train Loss: 2.0816\n",
            "Epoch 59, Train Acc: 99.72, Train Loss: 2.0844\n",
            "Epoch 60, Train Acc: 99.72, Train Loss: 2.0855\n",
            "Epoch 60, Test Acc: 97.42\n"
          ]
        }
      ],
      "source": [
        "max_time = 1.4\n",
        "time_steps = 256\n",
        "dt = max_time/time_steps\n",
        "batch_size = 128\n",
        "num_channels = 256\n",
        "epochs = 60\n",
        "lr = 1e-3\n",
        "weight_decay = 1e-4\n",
        "# Loading the dataset with the desired format/sizes\n",
        "train_ds, test_ds = get_numpy_datasets(dataset_name='shd', nb_steps=time_steps, n_inp=num_channels)\n",
        "train_dl = NumpyLoader(train_ds[0], batch_size=batch_size, num_workers=0, drop_last=True)\n",
        "test_dl = NumpyLoader(test_ds[0], batch_size=batch_size, num_workers=0, drop_last=True)\n",
        "model = CNN( network_params=network_params ).to(device)\n",
        "optimizer = torch.optim.Adam( params=model.parameters(), lr=lr, weight_decay=weight_decay )\n",
        "scheduler = torch.optim.lr_scheduler.LinearLR(optimizer, start_factor=1.0, end_factor=0.01, total_iters=10, last_epoch=-1, verbose=False)\n",
        "\n",
        "[train_losses, train_accs], [test_loss, test_acc] = training_SHD( epochs, model, lr, weight_decay, train_dl, batch_size, test_dl, device,\n",
        "                                                                    optimizer=optimizer, scheduler=scheduler, verbose=True, keep_2D=True )"
      ]
    },
    {
      "cell_type": "code",
      "source": [
        "max_time = 1.4\n",
        "time_steps = 256\n",
        "dt = max_time/time_steps\n",
        "batch_size = 128\n",
        "num_channels = 256\n",
        "epochs = 60\n",
        "lr = 1e-3\n",
        "weight_decay = 1e-4\n",
        "# Loading the dataset with the desired format/sizes\n",
        "train_ds, test_ds = get_numpy_datasets(dataset_name='shd', nb_steps=time_steps, n_inp=num_channels)\n",
        "train_dl = NumpyLoader(train_ds[0], batch_size=batch_size, num_workers=0, drop_last=True)\n",
        "test_dl = NumpyLoader(test_ds[0], batch_size=batch_size, num_workers=0, drop_last=True)\n",
        "\n",
        "reps = 5\n",
        "test_accs, train_accs = [], []\n",
        "for i in range(reps):\n",
        "    model = CNN( network_params=network_params ).to(device)\n",
        "    optimizer = torch.optim.Adam( params=model.parameters(), lr=lr, weight_decay=weight_decay )\n",
        "    scheduler = torch.optim.lr_scheduler.LinearLR(optimizer, start_factor=1.0, end_factor=0.01, total_iters=10, last_epoch=-1, verbose=False)\n",
        "    [train_losses, train_acc], [test_loss, test_acc] = training_SHD( epochs, model, lr, weight_decay, train_dl, batch_size, test_dl, device,\n",
        "                                                                    optimizer=optimizer, scheduler=scheduler, verbose=False, keep_2D=True )\n",
        "    print(f'CNN, rep {i+1}, Test Acc: {test_acc*100:.2f}%')\n",
        "    test_accs.append( test_acc )\n",
        "    train_accs.append( train_acc[-1] )"
      ],
      "metadata": {
        "colab": {
          "base_uri": "https://localhost:8080/"
        },
        "id": "xck4go6BL3cD",
        "outputId": "344899b0-4c40-498d-9feb-44c4e750b6ca"
      },
      "execution_count": null,
      "outputs": [
        {
          "output_type": "stream",
          "name": "stdout",
          "text": [
            "Available at: /root/data/audiospikes/shd_train.h5\n",
            "Available at: /root/data/audiospikes/shd_test.h5\n",
            "CNN, rep 1, Test Acc: 97.31%\n",
            "CNN, rep 2, Test Acc: 97.36%\n",
            "CNN, rep 3, Test Acc: 97.14%\n",
            "CNN, rep 4, Test Acc: 97.49%\n",
            "CNN, rep 5, Test Acc: 97.52%\n"
          ]
        }
      ]
    },
    {
      "cell_type": "code",
      "source": [
        "np.mean(test_accs)*100"
      ],
      "metadata": {
        "colab": {
          "base_uri": "https://localhost:8080/"
        },
        "id": "FehjORazeZU0",
        "outputId": "85b679a9-0c26-4582-d6fd-ed4fc140da43"
      },
      "execution_count": null,
      "outputs": [
        {
          "output_type": "execute_result",
          "data": {
            "text/plain": [
              "97.36487746238708"
            ]
          },
          "metadata": {},
          "execution_count": 22
        }
      ]
    },
    {
      "cell_type": "code",
      "source": [
        "import pickle\n",
        "root = '/content/drive/MyDrive/Colab Notebooks/Delay_computation/Results'\n",
        "\n",
        "dict_results_CNN = {\n",
        "    'train_accs' : train_accs,\n",
        "    'test_accs' : test_accs,\n",
        "    'network_params' : network_params,\n",
        "    'lr' : lr,\n",
        "    'weight_decay' : weight_decay,\n",
        "    'num_channels' : num_channels,\n",
        "    'time_steps' : time_steps,\n",
        "}\n",
        "\n",
        "pickle.dump( dict_results_CNN, open(root+'/CNN_SHD.pkl', 'wb') )"
      ],
      "metadata": {
        "id": "SYrzvZ15MzlG"
      },
      "execution_count": null,
      "outputs": []
    },
    {
      "cell_type": "markdown",
      "metadata": {
        "id": "VGDCaeBYRIFZ"
      },
      "source": [
        "# SHD with RSNN\n",
        "---"
      ]
    },
    {
      "cell_type": "code",
      "execution_count": null,
      "metadata": {
        "id": "8sVhxhRSRIFZ"
      },
      "outputs": [],
      "source": [
        "def exp_convolve(tensor, decay):\n",
        "    '''\n",
        "    Filters a tensor with an exponential filter.\n",
        "    :param tensor: a tensor of shape (trial, time, neuron)\n",
        "    :param decay: a decay constant of the form exp(-dt/tau) with tau the time constant\n",
        "    :return: the filtered tensor of shape (trial, time, neuron)\n",
        "\n",
        "    note that the shape of the tensors is important. You can tho swap the dimentions with the following:\n",
        "    tensor_swapped = tensor.permute( 1,0,2 ) # dim 0 becomes dim 1 and viceversa, dim 2 not changed\n",
        "    '''\n",
        "    #with tf.name_scope('ExpConvolve'):\n",
        "    #    assert tensor.dtype in [tf.float16, tf.float32, tf.float64]\n",
        "    r_shp = range(len(tensor.size()))\n",
        "    transpose_perm = [1, 0] + list(r_shp)[2:]\n",
        "\n",
        "    tensor_time_major = tensor.permute(transpose_perm)\n",
        "    initializer = torch.zeros_like(tensor_time_major[0])\n",
        "    #filtered_tensor = tf.scan(lambda a, x: a * decay + (1 - decay) * x, tensor_time_major, initializer=initializer)\n",
        "    #########################################################################\n",
        "    exp_kernel = lambda a, x: a * decay + (1 - decay) * x\n",
        "    filtered_tensor = []\n",
        "    tensor_upd = exp_kernel( initializer, tensor_time_major[0] )\n",
        "    filtered_tensor.append( tensor_upd )\n",
        "    for i in range( 1, tensor_time_major.size(0) ):\n",
        "        tensor_upd = exp_kernel( tensor_upd, tensor_time_major[i] )\n",
        "        filtered_tensor.append( tensor_upd )\n",
        "    filtered_tensor = torch.stack( filtered_tensor, dim=0 )\n",
        "    #########################################################################\n",
        "    filtered_tensor = filtered_tensor.permute(transpose_perm)\n",
        "\n",
        "    return filtered_tensor"
      ]
    }
  ],
  "metadata": {
    "kernelspec": {
      "display_name": "Python 3",
      "name": "python3"
    },
    "language_info": {
      "codemirror_mode": {
        "name": "ipython",
        "version": 3
      },
      "file_extension": ".py",
      "mimetype": "text/x-python",
      "name": "python",
      "nbconvert_exporter": "python",
      "pygments_lexer": "ipython3",
      "version": "3.10.9"
    },
    "orig_nbformat": 4,
    "colab": {
      "provenance": [],
      "gpuType": "T4",
      "include_colab_link": true
    },
    "accelerator": "GPU"
  },
  "nbformat": 4,
  "nbformat_minor": 0
}